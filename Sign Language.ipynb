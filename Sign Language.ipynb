{
 "cells": [
  {
   "cell_type": "code",
   "execution_count": 1,
   "metadata": {},
   "outputs": [],
   "source": [
    "import seaborn as sns\n",
    "import matplotlib.pyplot as plt"
   ]
  },
  {
   "cell_type": "code",
   "execution_count": 2,
   "metadata": {},
   "outputs": [
    {
     "data": {
      "text/html": [
       "<div>\n",
       "<style scoped>\n",
       "    .dataframe tbody tr th:only-of-type {\n",
       "        vertical-align: middle;\n",
       "    }\n",
       "\n",
       "    .dataframe tbody tr th {\n",
       "        vertical-align: top;\n",
       "    }\n",
       "\n",
       "    .dataframe thead th {\n",
       "        text-align: right;\n",
       "    }\n",
       "</style>\n",
       "<table border=\"1\" class=\"dataframe\">\n",
       "  <thead>\n",
       "    <tr style=\"text-align: right;\">\n",
       "      <th></th>\n",
       "      <th>label</th>\n",
       "      <th>pixel1</th>\n",
       "      <th>pixel2</th>\n",
       "      <th>pixel3</th>\n",
       "      <th>pixel4</th>\n",
       "      <th>pixel5</th>\n",
       "      <th>pixel6</th>\n",
       "      <th>pixel7</th>\n",
       "      <th>pixel8</th>\n",
       "      <th>pixel9</th>\n",
       "      <th>...</th>\n",
       "      <th>pixel775</th>\n",
       "      <th>pixel776</th>\n",
       "      <th>pixel777</th>\n",
       "      <th>pixel778</th>\n",
       "      <th>pixel779</th>\n",
       "      <th>pixel780</th>\n",
       "      <th>pixel781</th>\n",
       "      <th>pixel782</th>\n",
       "      <th>pixel783</th>\n",
       "      <th>pixel784</th>\n",
       "    </tr>\n",
       "  </thead>\n",
       "  <tbody>\n",
       "    <tr>\n",
       "      <th>0</th>\n",
       "      <td>3</td>\n",
       "      <td>107</td>\n",
       "      <td>118</td>\n",
       "      <td>127</td>\n",
       "      <td>134</td>\n",
       "      <td>139</td>\n",
       "      <td>143</td>\n",
       "      <td>146</td>\n",
       "      <td>150</td>\n",
       "      <td>153</td>\n",
       "      <td>...</td>\n",
       "      <td>207</td>\n",
       "      <td>207</td>\n",
       "      <td>207</td>\n",
       "      <td>207</td>\n",
       "      <td>206</td>\n",
       "      <td>206</td>\n",
       "      <td>206</td>\n",
       "      <td>204</td>\n",
       "      <td>203</td>\n",
       "      <td>202</td>\n",
       "    </tr>\n",
       "    <tr>\n",
       "      <th>1</th>\n",
       "      <td>6</td>\n",
       "      <td>155</td>\n",
       "      <td>157</td>\n",
       "      <td>156</td>\n",
       "      <td>156</td>\n",
       "      <td>156</td>\n",
       "      <td>157</td>\n",
       "      <td>156</td>\n",
       "      <td>158</td>\n",
       "      <td>158</td>\n",
       "      <td>...</td>\n",
       "      <td>69</td>\n",
       "      <td>149</td>\n",
       "      <td>128</td>\n",
       "      <td>87</td>\n",
       "      <td>94</td>\n",
       "      <td>163</td>\n",
       "      <td>175</td>\n",
       "      <td>103</td>\n",
       "      <td>135</td>\n",
       "      <td>149</td>\n",
       "    </tr>\n",
       "    <tr>\n",
       "      <th>2</th>\n",
       "      <td>2</td>\n",
       "      <td>187</td>\n",
       "      <td>188</td>\n",
       "      <td>188</td>\n",
       "      <td>187</td>\n",
       "      <td>187</td>\n",
       "      <td>186</td>\n",
       "      <td>187</td>\n",
       "      <td>188</td>\n",
       "      <td>187</td>\n",
       "      <td>...</td>\n",
       "      <td>202</td>\n",
       "      <td>201</td>\n",
       "      <td>200</td>\n",
       "      <td>199</td>\n",
       "      <td>198</td>\n",
       "      <td>199</td>\n",
       "      <td>198</td>\n",
       "      <td>195</td>\n",
       "      <td>194</td>\n",
       "      <td>195</td>\n",
       "    </tr>\n",
       "    <tr>\n",
       "      <th>3</th>\n",
       "      <td>2</td>\n",
       "      <td>211</td>\n",
       "      <td>211</td>\n",
       "      <td>212</td>\n",
       "      <td>212</td>\n",
       "      <td>211</td>\n",
       "      <td>210</td>\n",
       "      <td>211</td>\n",
       "      <td>210</td>\n",
       "      <td>210</td>\n",
       "      <td>...</td>\n",
       "      <td>235</td>\n",
       "      <td>234</td>\n",
       "      <td>233</td>\n",
       "      <td>231</td>\n",
       "      <td>230</td>\n",
       "      <td>226</td>\n",
       "      <td>225</td>\n",
       "      <td>222</td>\n",
       "      <td>229</td>\n",
       "      <td>163</td>\n",
       "    </tr>\n",
       "    <tr>\n",
       "      <th>4</th>\n",
       "      <td>13</td>\n",
       "      <td>164</td>\n",
       "      <td>167</td>\n",
       "      <td>170</td>\n",
       "      <td>172</td>\n",
       "      <td>176</td>\n",
       "      <td>179</td>\n",
       "      <td>180</td>\n",
       "      <td>184</td>\n",
       "      <td>185</td>\n",
       "      <td>...</td>\n",
       "      <td>92</td>\n",
       "      <td>105</td>\n",
       "      <td>105</td>\n",
       "      <td>108</td>\n",
       "      <td>133</td>\n",
       "      <td>163</td>\n",
       "      <td>157</td>\n",
       "      <td>163</td>\n",
       "      <td>164</td>\n",
       "      <td>179</td>\n",
       "    </tr>\n",
       "  </tbody>\n",
       "</table>\n",
       "<p>5 rows × 785 columns</p>\n",
       "</div>"
      ],
      "text/plain": [
       "   label  pixel1  pixel2  pixel3  pixel4  pixel5  pixel6  pixel7  pixel8  \\\n",
       "0      3     107     118     127     134     139     143     146     150   \n",
       "1      6     155     157     156     156     156     157     156     158   \n",
       "2      2     187     188     188     187     187     186     187     188   \n",
       "3      2     211     211     212     212     211     210     211     210   \n",
       "4     13     164     167     170     172     176     179     180     184   \n",
       "\n",
       "   pixel9  ...  pixel775  pixel776  pixel777  pixel778  pixel779  pixel780  \\\n",
       "0     153  ...       207       207       207       207       206       206   \n",
       "1     158  ...        69       149       128        87        94       163   \n",
       "2     187  ...       202       201       200       199       198       199   \n",
       "3     210  ...       235       234       233       231       230       226   \n",
       "4     185  ...        92       105       105       108       133       163   \n",
       "\n",
       "   pixel781  pixel782  pixel783  pixel784  \n",
       "0       206       204       203       202  \n",
       "1       175       103       135       149  \n",
       "2       198       195       194       195  \n",
       "3       225       222       229       163  \n",
       "4       157       163       164       179  \n",
       "\n",
       "[5 rows x 785 columns]"
      ]
     },
     "execution_count": 2,
     "metadata": {},
     "output_type": "execute_result"
    }
   ],
   "source": [
    "import numpy as np\n",
    "import pandas as pd\n",
    "\n",
    "train = pd.read_csv('./sign_mnist_train.csv')\n",
    "test = pd.read_csv('./sign_mnist_test.csv')\n",
    "train.head()"
   ]
  },
  {
   "cell_type": "code",
   "execution_count": 3,
   "metadata": {},
   "outputs": [
    {
     "name": "stdout",
     "output_type": "stream",
     "text": [
      "(27455, 785)\n",
      "(7172, 785)\n"
     ]
    }
   ],
   "source": [
    "print (train.shape)\n",
    "print (test.shape)"
   ]
  },
  {
   "cell_type": "code",
   "execution_count": 4,
   "metadata": {},
   "outputs": [],
   "source": [
    "labels = train['label'].values\n",
    "unique_val = np.array(labels)\n",
    "unique_labels = np.unique(unique_val)"
   ]
  },
  {
   "cell_type": "code",
   "execution_count": 5,
   "metadata": {},
   "outputs": [
    {
     "data": {
      "text/plain": [
       "array([ 0,  1,  2,  3,  4,  5,  6,  7,  8, 10, 11, 12, 13, 14, 15, 16, 17,\n",
       "       18, 19, 20, 21, 22, 23, 24])"
      ]
     },
     "execution_count": 5,
     "metadata": {},
     "output_type": "execute_result"
    }
   ],
   "source": [
    "unique_labels"
   ]
  },
  {
   "cell_type": "code",
   "execution_count": 6,
   "metadata": {},
   "outputs": [
    {
     "data": {
      "image/png": "[encoded data removed]",
      "text/plain": [
       "<Figure size 1296x576 with 1 Axes>"
      ]
     },
     "metadata": {
      "needs_background": "light"
     },
     "output_type": "display_data"
    }
   ],
   "source": [
    "plt.figure(figsize = (18,8))\n",
    "sns.countplot(x=labels);"
   ]
  },
  {
   "cell_type": "code",
   "execution_count": 7,
   "metadata": {},
   "outputs": [
    {
     "data": {
      "text/plain": [
       "array([[  3, 107, 118, ..., 204, 203, 202],\n",
       "       [  6, 155, 157, ..., 103, 135, 149],\n",
       "       [  2, 187, 188, ..., 195, 194, 195],\n",
       "       ...,\n",
       "       [ 18, 174, 174, ..., 202, 200, 200],\n",
       "       [ 17, 177, 181, ...,  64,  87,  93],\n",
       "       [ 23, 179, 180, ..., 205, 209, 215]])"
      ]
     },
     "execution_count": 7,
     "metadata": {},
     "output_type": "execute_result"
    }
   ],
   "source": [
    "train.values"
   ]
  },
  {
   "cell_type": "code",
   "execution_count": 8,
   "metadata": {},
   "outputs": [
    {
     "data": {
      "text/html": [
       "<div>\n",
       "<style scoped>\n",
       "    .dataframe tbody tr th:only-of-type {\n",
       "        vertical-align: middle;\n",
       "    }\n",
       "\n",
       "    .dataframe tbody tr th {\n",
       "        vertical-align: top;\n",
       "    }\n",
       "\n",
       "    .dataframe thead th {\n",
       "        text-align: right;\n",
       "    }\n",
       "</style>\n",
       "<table border=\"1\" class=\"dataframe\">\n",
       "  <thead>\n",
       "    <tr style=\"text-align: right;\">\n",
       "      <th></th>\n",
       "      <th>pixel1</th>\n",
       "      <th>pixel2</th>\n",
       "      <th>pixel3</th>\n",
       "      <th>pixel4</th>\n",
       "      <th>pixel5</th>\n",
       "      <th>pixel6</th>\n",
       "      <th>pixel7</th>\n",
       "      <th>pixel8</th>\n",
       "      <th>pixel9</th>\n",
       "      <th>pixel10</th>\n",
       "      <th>...</th>\n",
       "      <th>pixel775</th>\n",
       "      <th>pixel776</th>\n",
       "      <th>pixel777</th>\n",
       "      <th>pixel778</th>\n",
       "      <th>pixel779</th>\n",
       "      <th>pixel780</th>\n",
       "      <th>pixel781</th>\n",
       "      <th>pixel782</th>\n",
       "      <th>pixel783</th>\n",
       "      <th>pixel784</th>\n",
       "    </tr>\n",
       "  </thead>\n",
       "  <tbody>\n",
       "    <tr>\n",
       "      <th>0</th>\n",
       "      <td>107</td>\n",
       "      <td>118</td>\n",
       "      <td>127</td>\n",
       "      <td>134</td>\n",
       "      <td>139</td>\n",
       "      <td>143</td>\n",
       "      <td>146</td>\n",
       "      <td>150</td>\n",
       "      <td>153</td>\n",
       "      <td>156</td>\n",
       "      <td>...</td>\n",
       "      <td>207</td>\n",
       "      <td>207</td>\n",
       "      <td>207</td>\n",
       "      <td>207</td>\n",
       "      <td>206</td>\n",
       "      <td>206</td>\n",
       "      <td>206</td>\n",
       "      <td>204</td>\n",
       "      <td>203</td>\n",
       "      <td>202</td>\n",
       "    </tr>\n",
       "    <tr>\n",
       "      <th>1</th>\n",
       "      <td>155</td>\n",
       "      <td>157</td>\n",
       "      <td>156</td>\n",
       "      <td>156</td>\n",
       "      <td>156</td>\n",
       "      <td>157</td>\n",
       "      <td>156</td>\n",
       "      <td>158</td>\n",
       "      <td>158</td>\n",
       "      <td>157</td>\n",
       "      <td>...</td>\n",
       "      <td>69</td>\n",
       "      <td>149</td>\n",
       "      <td>128</td>\n",
       "      <td>87</td>\n",
       "      <td>94</td>\n",
       "      <td>163</td>\n",
       "      <td>175</td>\n",
       "      <td>103</td>\n",
       "      <td>135</td>\n",
       "      <td>149</td>\n",
       "    </tr>\n",
       "    <tr>\n",
       "      <th>2</th>\n",
       "      <td>187</td>\n",
       "      <td>188</td>\n",
       "      <td>188</td>\n",
       "      <td>187</td>\n",
       "      <td>187</td>\n",
       "      <td>186</td>\n",
       "      <td>187</td>\n",
       "      <td>188</td>\n",
       "      <td>187</td>\n",
       "      <td>186</td>\n",
       "      <td>...</td>\n",
       "      <td>202</td>\n",
       "      <td>201</td>\n",
       "      <td>200</td>\n",
       "      <td>199</td>\n",
       "      <td>198</td>\n",
       "      <td>199</td>\n",
       "      <td>198</td>\n",
       "      <td>195</td>\n",
       "      <td>194</td>\n",
       "      <td>195</td>\n",
       "    </tr>\n",
       "    <tr>\n",
       "      <th>3</th>\n",
       "      <td>211</td>\n",
       "      <td>211</td>\n",
       "      <td>212</td>\n",
       "      <td>212</td>\n",
       "      <td>211</td>\n",
       "      <td>210</td>\n",
       "      <td>211</td>\n",
       "      <td>210</td>\n",
       "      <td>210</td>\n",
       "      <td>211</td>\n",
       "      <td>...</td>\n",
       "      <td>235</td>\n",
       "      <td>234</td>\n",
       "      <td>233</td>\n",
       "      <td>231</td>\n",
       "      <td>230</td>\n",
       "      <td>226</td>\n",
       "      <td>225</td>\n",
       "      <td>222</td>\n",
       "      <td>229</td>\n",
       "      <td>163</td>\n",
       "    </tr>\n",
       "    <tr>\n",
       "      <th>4</th>\n",
       "      <td>164</td>\n",
       "      <td>167</td>\n",
       "      <td>170</td>\n",
       "      <td>172</td>\n",
       "      <td>176</td>\n",
       "      <td>179</td>\n",
       "      <td>180</td>\n",
       "      <td>184</td>\n",
       "      <td>185</td>\n",
       "      <td>186</td>\n",
       "      <td>...</td>\n",
       "      <td>92</td>\n",
       "      <td>105</td>\n",
       "      <td>105</td>\n",
       "      <td>108</td>\n",
       "      <td>133</td>\n",
       "      <td>163</td>\n",
       "      <td>157</td>\n",
       "      <td>163</td>\n",
       "      <td>164</td>\n",
       "      <td>179</td>\n",
       "    </tr>\n",
       "  </tbody>\n",
       "</table>\n",
       "<p>5 rows × 784 columns</p>\n",
       "</div>"
      ],
      "text/plain": [
       "   pixel1  pixel2  pixel3  pixel4  pixel5  pixel6  pixel7  pixel8  pixel9  \\\n",
       "0     107     118     127     134     139     143     146     150     153   \n",
       "1     155     157     156     156     156     157     156     158     158   \n",
       "2     187     188     188     187     187     186     187     188     187   \n",
       "3     211     211     212     212     211     210     211     210     210   \n",
       "4     164     167     170     172     176     179     180     184     185   \n",
       "\n",
       "   pixel10  ...  pixel775  pixel776  pixel777  pixel778  pixel779  pixel780  \\\n",
       "0      156  ...       207       207       207       207       206       206   \n",
       "1      157  ...        69       149       128        87        94       163   \n",
       "2      186  ...       202       201       200       199       198       199   \n",
       "3      211  ...       235       234       233       231       230       226   \n",
       "4      186  ...        92       105       105       108       133       163   \n",
       "\n",
       "   pixel781  pixel782  pixel783  pixel784  \n",
       "0       206       204       203       202  \n",
       "1       175       103       135       149  \n",
       "2       198       195       194       195  \n",
       "3       225       222       229       163  \n",
       "4       157       163       164       179  \n",
       "\n",
       "[5 rows x 784 columns]"
      ]
     },
     "execution_count": 8,
     "metadata": {},
     "output_type": "execute_result"
    }
   ],
   "source": [
    "# drop column label\n",
    "train_without_label = train.drop(\"label\", axis=1)\n",
    "train_without_label.head()"
   ]
  },
  {
   "cell_type": "code",
   "execution_count": 9,
   "metadata": {
    "scrolled": true
   },
   "outputs": [
    {
     "data": {
      "text/plain": [
       "array([[[107, 118, 127, ..., 170, 170, 169],\n",
       "        [111, 121, 129, ..., 171, 171, 170],\n",
       "        [113, 123, 131, ..., 171, 171, 171],\n",
       "        ...,\n",
       "        [142, 150, 159, ..., 202, 201, 200],\n",
       "        [142, 151, 160, ..., 204, 203, 202],\n",
       "        [142, 151, 160, ..., 204, 203, 202]],\n",
       "\n",
       "       [[155, 157, 156, ..., 138,  92, 108],\n",
       "        [158, 159, 159, ..., 142, 116, 143],\n",
       "        [161, 161, 161, ..., 147, 125, 140],\n",
       "        ...,\n",
       "        [162, 159, 145, ...,  91, 101,  94],\n",
       "        [153, 139, 115, ...,  97,  95, 120],\n",
       "        [135, 116,  95, ..., 103, 135, 149]],\n",
       "\n",
       "       [[187, 188, 188, ...,  66,  77,  83],\n",
       "        [188, 189, 189, ...,  73,  73,  71],\n",
       "        [190, 190, 190, ...,  74,  68,  61],\n",
       "        ...,\n",
       "        [212, 198, 175, ..., 195, 193, 192],\n",
       "        [202, 179, 152, ..., 195, 194, 193],\n",
       "        [198, 166, 132, ..., 195, 194, 195]],\n",
       "\n",
       "       ...,\n",
       "\n",
       "       [[174, 174, 174, ..., 160, 158, 156],\n",
       "        [178, 178, 177, ..., 162, 160, 158],\n",
       "        [181, 180, 180, ..., 164, 162, 161],\n",
       "        ...,\n",
       "        [215, 216, 216, ..., 201, 199, 198],\n",
       "        [216, 217, 217, ..., 201, 200, 198],\n",
       "        [217, 217, 217, ..., 202, 200, 200]],\n",
       "\n",
       "       [[177, 181, 184, ..., 181, 179, 177],\n",
       "        [179, 182, 185, ..., 183, 181, 179],\n",
       "        [181, 184, 187, ..., 185, 183, 182],\n",
       "        ...,\n",
       "        [129, 132, 134, ...,  94, 102,  70],\n",
       "        [131, 134, 132, ...,  78, 100,  86],\n",
       "        [136, 135, 135, ...,  64,  87,  93]],\n",
       "\n",
       "       [[179, 180, 180, ...,  47,  30,  39],\n",
       "        [180, 182, 183, ...,  79,  24,  34],\n",
       "        [184, 184, 185, ..., 115,  25,  29],\n",
       "        ...,\n",
       "        [ 90,  94,  76, ..., 109, 150, 172],\n",
       "        [ 94,  93,  89, ..., 202, 213, 215],\n",
       "        [ 96,  88, 109, ..., 205, 209, 215]]])"
      ]
     },
     "execution_count": 9,
     "metadata": {},
     "output_type": "execute_result"
    }
   ],
   "source": [
    "images = train_without_label.values\n",
    "images = np.array([np.reshape(i, (28, 28)) for i in images])\n",
    "images"
   ]
  },
  {
   "cell_type": "code",
   "execution_count": 10,
   "metadata": {},
   "outputs": [
    {
     "data": {
      "text/plain": [
       "<matplotlib.image.AxesImage at 0x7f827735d0b8>"
      ]
     },
     "execution_count": 10,
     "metadata": {},
     "output_type": "execute_result"
    },
    {
     "data": {
      "image/png": "[encoded data removed]",
      "text/plain": [
       "<Figure size 432x288 with 1 Axes>"
      ]
     },
     "metadata": {
      "needs_background": "light"
     },
     "output_type": "display_data"
    }
   ],
   "source": [
    "plt.imshow(images[0])"
   ]
  },
  {
   "cell_type": "code",
   "execution_count": 31,
   "metadata": {},
   "outputs": [
    {
     "data": {
      "text/plain": [
       "array([[0, 0, 0, ..., 0, 0, 0],\n",
       "       [0, 0, 0, ..., 0, 0, 0],\n",
       "       [0, 0, 1, ..., 0, 0, 0],\n",
       "       ...,\n",
       "       [0, 0, 0, ..., 0, 0, 0],\n",
       "       [0, 0, 0, ..., 0, 0, 0],\n",
       "       [0, 0, 0, ..., 0, 1, 0]], dtype=int64)"
      ]
     },
     "execution_count": 31,
     "metadata": {},
     "output_type": "execute_result"
    }
   ],
   "source": [
    "# Convert labels to binary \n",
    "from sklearn.preprocessing import LabelBinarizer\n",
    "labels = LabelBinarizer().fit_transform(labels)\n",
    "labels"
   ]
  },
  {
   "cell_type": "code",
   "execution_count": 32,
   "metadata": {},
   "outputs": [],
   "source": [
    "from sklearn.model_selection import train_test_split\n",
    "X_train, X_test, y_train, y_test = train_test_split(images, labels, test_size=0.3, random_state=42)"
   ]
  },
  {
   "cell_type": "code",
   "execution_count": 33,
   "metadata": {},
   "outputs": [],
   "source": [
    "# Build model\n",
    "import keras\n",
    "from keras.models import Sequential\n",
    "from keras.layers import Dense, Conv2D, MaxPooling2D, Flatten, Dropout"
   ]
  },
  {
   "cell_type": "code",
   "execution_count": 34,
   "metadata": {},
   "outputs": [],
   "source": [
    "# Config model hyperparameter\n",
    "batch_size = 128\n",
    "num_classes = 24\n",
    "epochs = 50"
   ]
  },
  {
   "cell_type": "code",
   "execution_count": 35,
   "metadata": {},
   "outputs": [],
   "source": [
    "X_train = X_train / 255\n",
    "X_test = X_test / 255"
   ]
  },
  {
   "cell_type": "code",
   "execution_count": 36,
   "metadata": {},
   "outputs": [],
   "source": [
    "X_train = X_train.reshape(X_train.shape[0], 28, 28, 1)\n",
    "X_test = X_test.reshape(X_test.shape[0], 28, 28, 1)"
   ]
  },
  {
   "cell_type": "code",
   "execution_count": 37,
   "metadata": {},
   "outputs": [
    {
     "data": {
      "text/plain": [
       "(19218, 28, 28, 1)"
      ]
     },
     "execution_count": 37,
     "metadata": {},
     "output_type": "execute_result"
    }
   ],
   "source": [
    "X_train.shape"
   ]
  },
  {
   "cell_type": "code",
   "execution_count": 38,
   "metadata": {},
   "outputs": [],
   "source": [
    "# CNN model\n",
    "model = Sequential()\n",
    "model.add(Conv2D(64, kernel_size=(3,3), activation = 'relu', input_shape=(28, 28 ,1) ))\n",
    "model.add(MaxPooling2D(pool_size = (2, 2)))\n",
    "\n",
    "model.add(Conv2D(64, kernel_size = (3, 3), activation = 'relu'))\n",
    "model.add(MaxPooling2D(pool_size = (2, 2)))\n",
    "\n",
    "model.add(Conv2D(64, kernel_size = (3, 3), activation = 'relu'))\n",
    "model.add(MaxPooling2D(pool_size = (2, 2)))\n",
    "\n",
    "model.add(Flatten())\n",
    "model.add(Dense(128, activation = 'relu'))\n",
    "model.add(Dropout(0.20))\n",
    "model.add(Dense(num_classes, activation = 'softmax'))"
   ]
  },
  {
   "cell_type": "code",
   "execution_count": 39,
   "metadata": {},
   "outputs": [],
   "source": [
    "model.compile(loss='categorical_crossentropy',\n",
    "              optimizer='adam',\n",
    "              metrics=['accuracy'])"
   ]
  },
  {
   "cell_type": "code",
   "execution_count": 40,
   "metadata": {},
   "outputs": [
    {
     "name": "stderr",
     "output_type": "stream",
     "text": [
      "W0708 10:45:07.817817 140199431653184 deprecation.py:323] From /home/duyvc/.local/lib/python3.6/site-packages/tensorflow/python/ops/math_grad.py:1250: add_dispatch_support.<locals>.wrapper (from tensorflow.python.ops.array_ops) is deprecated and will be removed in a future version.\n",
      "Instructions for updating:\n",
      "Use tf.where in 2.0, which has the same broadcast rule as np.where\n"
     ]
    },
    {
     "name": "stdout",
     "output_type": "stream",
     "text": [
      "Train on 19218 samples, validate on 8237 samples\n",
      "Epoch 1/50\n",
      "19218/19218 [==============================] - 23s 1ms/step - loss: 2.5720 - acc: 0.2420 - val_loss: 1.2931 - val_acc: 0.5570\n",
      "Epoch 2/50\n",
      "19218/19218 [==============================] - 27s 1ms/step - loss: 0.8981 - acc: 0.6922 - val_loss: 0.4802 - val_acc: 0.8299\n",
      "Epoch 3/50\n",
      "19218/19218 [==============================] - 29s 2ms/step - loss: 0.3366 - acc: 0.8877 - val_loss: 0.1498 - val_acc: 0.9610\n",
      "Epoch 4/50\n",
      "19218/19218 [==============================] - 30s 2ms/step - loss: 0.1364 - acc: 0.9557 - val_loss: 0.0695 - val_acc: 0.9791\n",
      "Epoch 5/50\n",
      "19218/19218 [==============================] - 25s 1ms/step - loss: 0.0701 - acc: 0.9797 - val_loss: 0.0276 - val_acc: 0.9953\n",
      "Epoch 6/50\n",
      "19218/19218 [==============================] - 23s 1ms/step - loss: 0.0446 - acc: 0.9865 - val_loss: 0.0086 - val_acc: 0.9987\n",
      "Epoch 7/50\n",
      "19218/19218 [==============================] - 24s 1ms/step - loss: 0.0226 - acc: 0.9943 - val_loss: 0.0092 - val_acc: 0.9979\n",
      "Epoch 8/50\n",
      "19218/19218 [==============================] - 24s 1ms/step - loss: 0.0208 - acc: 0.9938 - val_loss: 0.0108 - val_acc: 0.9972\n",
      "Epoch 9/50\n",
      "19218/19218 [==============================] - 24s 1ms/step - loss: 0.0185 - acc: 0.9946 - val_loss: 0.0086 - val_acc: 0.9983\n",
      "Epoch 10/50\n",
      "19218/19218 [==============================] - 27s 1ms/step - loss: 0.0107 - acc: 0.9972 - val_loss: 0.0096 - val_acc: 0.9972\n",
      "Epoch 11/50\n",
      "19218/19218 [==============================] - 25s 1ms/step - loss: 0.0225 - acc: 0.9930 - val_loss: 0.0076 - val_acc: 0.9982\n",
      "Epoch 12/50\n",
      "19218/19218 [==============================] - 22s 1ms/step - loss: 0.0183 - acc: 0.9943 - val_loss: 0.0203 - val_acc: 0.9924\n",
      "Epoch 13/50\n",
      "19218/19218 [==============================] - 22s 1ms/step - loss: 0.0214 - acc: 0.9929 - val_loss: 0.0105 - val_acc: 0.9956\n",
      "Epoch 14/50\n",
      "19218/19218 [==============================] - 21s 1ms/step - loss: 0.0085 - acc: 0.9975 - val_loss: 0.0043 - val_acc: 0.9989\n",
      "Epoch 15/50\n",
      "19218/19218 [==============================] - 21s 1ms/step - loss: 0.0059 - acc: 0.9983 - val_loss: 0.0077 - val_acc: 0.9973\n",
      "Epoch 16/50\n",
      "19218/19218 [==============================] - 22s 1ms/step - loss: 0.0144 - acc: 0.9954 - val_loss: 0.0016 - val_acc: 0.9995\n",
      "Epoch 17/50\n",
      "19218/19218 [==============================] - 24s 1ms/step - loss: 0.0361 - acc: 0.9877 - val_loss: 0.0138 - val_acc: 0.9958\n",
      "Epoch 18/50\n",
      "19218/19218 [==============================] - 26s 1ms/step - loss: 0.0159 - acc: 0.9949 - val_loss: 0.0102 - val_acc: 0.9960\n",
      "Epoch 19/50\n",
      "19218/19218 [==============================] - 31s 2ms/step - loss: 0.0071 - acc: 0.9977 - val_loss: 0.0014 - val_acc: 0.9998\n",
      "Epoch 20/50\n",
      "19218/19218 [==============================] - 24s 1ms/step - loss: 0.0208 - acc: 0.9933 - val_loss: 0.0183 - val_acc: 0.9942\n",
      "Epoch 21/50\n",
      "19218/19218 [==============================] - 24s 1ms/step - loss: 0.0337 - acc: 0.9900 - val_loss: 0.0349 - val_acc: 0.9877\n",
      "Epoch 22/50\n",
      "19218/19218 [==============================] - 22s 1ms/step - loss: 0.0137 - acc: 0.9954 - val_loss: 0.0019 - val_acc: 0.9995\n",
      "Epoch 23/50\n",
      "19218/19218 [==============================] - 23s 1ms/step - loss: 0.0016 - acc: 0.9996 - val_loss: 2.5938e-04 - val_acc: 1.0000\n",
      "Epoch 24/50\n",
      "19218/19218 [==============================] - 24s 1ms/step - loss: 0.0025 - acc: 0.9993 - val_loss: 0.0046 - val_acc: 0.9987\n",
      "Epoch 25/50\n",
      "19218/19218 [==============================] - 24s 1ms/step - loss: 0.0049 - acc: 0.9988 - val_loss: 0.0025 - val_acc: 0.9992\n",
      "Epoch 26/50\n",
      "19218/19218 [==============================] - 23s 1ms/step - loss: 0.0166 - acc: 0.9945 - val_loss: 0.0193 - val_acc: 0.9941\n",
      "Epoch 27/50\n",
      "19218/19218 [==============================] - 22s 1ms/step - loss: 0.0441 - acc: 0.9870 - val_loss: 0.0123 - val_acc: 0.9964\n",
      "Epoch 28/50\n",
      "19218/19218 [==============================] - 21s 1ms/step - loss: 0.0058 - acc: 0.9979 - val_loss: 0.0026 - val_acc: 0.9993\n",
      "Epoch 29/50\n",
      "19218/19218 [==============================] - 25s 1ms/step - loss: 0.0081 - acc: 0.9973 - val_loss: 0.0013 - val_acc: 0.9996\n",
      "Epoch 30/50\n",
      "19218/19218 [==============================] - 23s 1ms/step - loss: 0.0025 - acc: 0.9992 - val_loss: 6.2551e-04 - val_acc: 0.9999\n",
      "Epoch 31/50\n",
      "19218/19218 [==============================] - 23s 1ms/step - loss: 0.0011 - acc: 0.9998 - val_loss: 5.6940e-04 - val_acc: 0.9998\n",
      "Epoch 32/50\n",
      "19218/19218 [==============================] - 23s 1ms/step - loss: 5.0010e-04 - acc: 0.9998 - val_loss: 3.5442e-04 - val_acc: 0.9999\n",
      "Epoch 33/50\n",
      "19218/19218 [==============================] - 22s 1ms/step - loss: 3.9597e-04 - acc: 0.9999 - val_loss: 0.0015 - val_acc: 0.9996\n",
      "Epoch 34/50\n",
      "19218/19218 [==============================] - 24s 1ms/step - loss: 0.0424 - acc: 0.9881 - val_loss: 0.0256 - val_acc: 0.9914\n",
      "Epoch 35/50\n",
      "19218/19218 [==============================] - 25s 1ms/step - loss: 0.0159 - acc: 0.9952 - val_loss: 0.0023 - val_acc: 0.9993\n",
      "Epoch 36/50\n",
      "19218/19218 [==============================] - 24s 1ms/step - loss: 0.0083 - acc: 0.9978 - val_loss: 0.0012 - val_acc: 0.9999\n",
      "Epoch 37/50\n",
      "19218/19218 [==============================] - 23s 1ms/step - loss: 0.0065 - acc: 0.9978 - val_loss: 0.0105 - val_acc: 0.9968\n",
      "Epoch 38/50\n",
      "19218/19218 [==============================] - 21s 1ms/step - loss: 0.0149 - acc: 0.9955 - val_loss: 0.0122 - val_acc: 0.9962\n",
      "Epoch 39/50\n",
      "19218/19218 [==============================] - 24s 1ms/step - loss: 0.0184 - acc: 0.9942 - val_loss: 0.0070 - val_acc: 0.9977\n",
      "Epoch 40/50\n",
      "19218/19218 [==============================] - 24s 1ms/step - loss: 0.0131 - acc: 0.9959 - val_loss: 0.0108 - val_acc: 0.9958\n",
      "Epoch 41/50\n",
      "19218/19218 [==============================] - 22s 1ms/step - loss: 0.0131 - acc: 0.9958 - val_loss: 0.0020 - val_acc: 0.9995\n",
      "Epoch 42/50\n",
      "19218/19218 [==============================] - 22s 1ms/step - loss: 0.0012 - acc: 0.9997 - val_loss: 3.5441e-04 - val_acc: 0.9999\n",
      "Epoch 43/50\n",
      "19218/19218 [==============================] - 22s 1ms/step - loss: 0.0018 - acc: 0.9993 - val_loss: 6.1876e-04 - val_acc: 0.9999\n",
      "Epoch 44/50\n",
      "19218/19218 [==============================] - 22s 1ms/step - loss: 1.8857e-04 - acc: 0.9999 - val_loss: 2.1561e-04 - val_acc: 0.9999\n",
      "Epoch 45/50\n",
      "19218/19218 [==============================] - 21s 1ms/step - loss: 2.7692e-04 - acc: 0.9999 - val_loss: 5.2067e-05 - val_acc: 1.0000\n",
      "Epoch 46/50\n",
      "19218/19218 [==============================] - 21s 1ms/step - loss: 0.0028 - acc: 0.9992 - val_loss: 0.0092 - val_acc: 0.9968\n",
      "Epoch 47/50\n",
      "19218/19218 [==============================] - 24s 1ms/step - loss: 0.0265 - acc: 0.9918 - val_loss: 0.0805 - val_acc: 0.9749\n",
      "Epoch 48/50\n",
      "19218/19218 [==============================] - 26s 1ms/step - loss: 0.0525 - acc: 0.9867 - val_loss: 0.0032 - val_acc: 0.9990\n",
      "Epoch 49/50\n",
      "19218/19218 [==============================] - 22s 1ms/step - loss: 0.0052 - acc: 0.9982 - val_loss: 1.0707e-04 - val_acc: 1.0000\n",
      "Epoch 50/50\n",
      "19218/19218 [==============================] - 22s 1ms/step - loss: 0.0021 - acc: 0.9993 - val_loss: 1.7668e-04 - val_acc: 1.0000\n"
     ]
    }
   ],
   "source": [
    "history = model.fit(X_train, y_train, validation_data = (X_test, y_test), epochs=epochs, batch_size=batch_size)"
   ]
  },
  {
   "cell_type": "code",
   "execution_count": 95,
   "metadata": {},
   "outputs": [
    {
     "data": {
      "image/png": "[encoded data removed]",
      "text/plain": [
       "<Figure size 432x288 with 1 Axes>"
      ]
     },
     "metadata": {
      "needs_background": "light"
     },
     "output_type": "display_data"
    }
   ],
   "source": [
    "plt.plot(history.history['acc'])\n",
    "plt.plot(history.history['val_acc'])\n",
    "plt.title(\"Accuracy\")\n",
    "plt.xlabel('epoch')\n",
    "plt.ylabel('accuracy')\n",
    "plt.legend(['train','test'])\n",
    "plt.show()"
   ]
  },
  {
   "cell_type": "code",
   "execution_count": 96,
   "metadata": {},
   "outputs": [],
   "source": [
    "# test model\n",
    "test_images = test.values\n",
    "test_images = np.array([np.reshape(i, (28, 28)) for i in images])"
   ]
  },
  {
   "cell_type": "code",
   "execution_count": 97,
   "metadata": {},
   "outputs": [
    {
     "data": {
      "text/html": [
       "<div>\n",
       "<style scoped>\n",
       "    .dataframe tbody tr th:only-of-type {\n",
       "        vertical-align: middle;\n",
       "    }\n",
       "\n",
       "    .dataframe tbody tr th {\n",
       "        vertical-align: top;\n",
       "    }\n",
       "\n",
       "    .dataframe thead th {\n",
       "        text-align: right;\n",
       "    }\n",
       "</style>\n",
       "<table border=\"1\" class=\"dataframe\">\n",
       "  <thead>\n",
       "    <tr style=\"text-align: right;\">\n",
       "      <th></th>\n",
       "      <th>label</th>\n",
       "      <th>pixel1</th>\n",
       "      <th>pixel2</th>\n",
       "      <th>pixel3</th>\n",
       "      <th>pixel4</th>\n",
       "      <th>pixel5</th>\n",
       "      <th>pixel6</th>\n",
       "      <th>pixel7</th>\n",
       "      <th>pixel8</th>\n",
       "      <th>pixel9</th>\n",
       "      <th>...</th>\n",
       "      <th>pixel775</th>\n",
       "      <th>pixel776</th>\n",
       "      <th>pixel777</th>\n",
       "      <th>pixel778</th>\n",
       "      <th>pixel779</th>\n",
       "      <th>pixel780</th>\n",
       "      <th>pixel781</th>\n",
       "      <th>pixel782</th>\n",
       "      <th>pixel783</th>\n",
       "      <th>pixel784</th>\n",
       "    </tr>\n",
       "  </thead>\n",
       "  <tbody>\n",
       "    <tr>\n",
       "      <th>0</th>\n",
       "      <td>6</td>\n",
       "      <td>149</td>\n",
       "      <td>149</td>\n",
       "      <td>150</td>\n",
       "      <td>150</td>\n",
       "      <td>150</td>\n",
       "      <td>151</td>\n",
       "      <td>151</td>\n",
       "      <td>150</td>\n",
       "      <td>151</td>\n",
       "      <td>...</td>\n",
       "      <td>138</td>\n",
       "      <td>148</td>\n",
       "      <td>127</td>\n",
       "      <td>89</td>\n",
       "      <td>82</td>\n",
       "      <td>96</td>\n",
       "      <td>106</td>\n",
       "      <td>112</td>\n",
       "      <td>120</td>\n",
       "      <td>107</td>\n",
       "    </tr>\n",
       "    <tr>\n",
       "      <th>1</th>\n",
       "      <td>5</td>\n",
       "      <td>126</td>\n",
       "      <td>128</td>\n",
       "      <td>131</td>\n",
       "      <td>132</td>\n",
       "      <td>133</td>\n",
       "      <td>134</td>\n",
       "      <td>135</td>\n",
       "      <td>135</td>\n",
       "      <td>136</td>\n",
       "      <td>...</td>\n",
       "      <td>47</td>\n",
       "      <td>104</td>\n",
       "      <td>194</td>\n",
       "      <td>183</td>\n",
       "      <td>186</td>\n",
       "      <td>184</td>\n",
       "      <td>184</td>\n",
       "      <td>184</td>\n",
       "      <td>182</td>\n",
       "      <td>180</td>\n",
       "    </tr>\n",
       "    <tr>\n",
       "      <th>2</th>\n",
       "      <td>10</td>\n",
       "      <td>85</td>\n",
       "      <td>88</td>\n",
       "      <td>92</td>\n",
       "      <td>96</td>\n",
       "      <td>105</td>\n",
       "      <td>123</td>\n",
       "      <td>135</td>\n",
       "      <td>143</td>\n",
       "      <td>147</td>\n",
       "      <td>...</td>\n",
       "      <td>68</td>\n",
       "      <td>166</td>\n",
       "      <td>242</td>\n",
       "      <td>227</td>\n",
       "      <td>230</td>\n",
       "      <td>227</td>\n",
       "      <td>226</td>\n",
       "      <td>225</td>\n",
       "      <td>224</td>\n",
       "      <td>222</td>\n",
       "    </tr>\n",
       "    <tr>\n",
       "      <th>3</th>\n",
       "      <td>0</td>\n",
       "      <td>203</td>\n",
       "      <td>205</td>\n",
       "      <td>207</td>\n",
       "      <td>206</td>\n",
       "      <td>207</td>\n",
       "      <td>209</td>\n",
       "      <td>210</td>\n",
       "      <td>209</td>\n",
       "      <td>210</td>\n",
       "      <td>...</td>\n",
       "      <td>154</td>\n",
       "      <td>248</td>\n",
       "      <td>247</td>\n",
       "      <td>248</td>\n",
       "      <td>253</td>\n",
       "      <td>236</td>\n",
       "      <td>230</td>\n",
       "      <td>240</td>\n",
       "      <td>253</td>\n",
       "      <td>255</td>\n",
       "    </tr>\n",
       "    <tr>\n",
       "      <th>4</th>\n",
       "      <td>3</td>\n",
       "      <td>188</td>\n",
       "      <td>191</td>\n",
       "      <td>193</td>\n",
       "      <td>195</td>\n",
       "      <td>199</td>\n",
       "      <td>201</td>\n",
       "      <td>202</td>\n",
       "      <td>203</td>\n",
       "      <td>203</td>\n",
       "      <td>...</td>\n",
       "      <td>26</td>\n",
       "      <td>40</td>\n",
       "      <td>64</td>\n",
       "      <td>48</td>\n",
       "      <td>29</td>\n",
       "      <td>46</td>\n",
       "      <td>49</td>\n",
       "      <td>46</td>\n",
       "      <td>46</td>\n",
       "      <td>53</td>\n",
       "    </tr>\n",
       "  </tbody>\n",
       "</table>\n",
       "<p>5 rows × 785 columns</p>\n",
       "</div>"
      ],
      "text/plain": [
       "   label  pixel1  pixel2  pixel3  pixel4  pixel5  pixel6  pixel7  pixel8  \\\n",
       "0      6     149     149     150     150     150     151     151     150   \n",
       "1      5     126     128     131     132     133     134     135     135   \n",
       "2     10      85      88      92      96     105     123     135     143   \n",
       "3      0     203     205     207     206     207     209     210     209   \n",
       "4      3     188     191     193     195     199     201     202     203   \n",
       "\n",
       "   pixel9  ...  pixel775  pixel776  pixel777  pixel778  pixel779  pixel780  \\\n",
       "0     151  ...       138       148       127        89        82        96   \n",
       "1     136  ...        47       104       194       183       186       184   \n",
       "2     147  ...        68       166       242       227       230       227   \n",
       "3     210  ...       154       248       247       248       253       236   \n",
       "4     203  ...        26        40        64        48        29        46   \n",
       "\n",
       "   pixel781  pixel782  pixel783  pixel784  \n",
       "0       106       112       120       107  \n",
       "1       184       184       182       180  \n",
       "2       226       225       224       222  \n",
       "3       230       240       253       255  \n",
       "4        49        46        46        53  \n",
       "\n",
       "[5 rows x 785 columns]"
      ]
     },
     "execution_count": 97,
     "metadata": {},
     "output_type": "execute_result"
    }
   ],
   "source": [
    "test.head()"
   ]
  },
  {
   "cell_type": "code",
   "execution_count": 98,
   "metadata": {},
   "outputs": [
    {
     "data": {
      "text/plain": [
       "(7172, 28, 28)"
      ]
     },
     "execution_count": 98,
     "metadata": {},
     "output_type": "execute_result"
    }
   ],
   "source": [
    "# get test labels\n",
    "test_labels = test['label'].values\n",
    "test_labels =  LabelBinarizer().fit_transform(test_labels)\n",
    "\n",
    "# drop column label\n",
    "test_without_label = test.drop(\"label\", axis=1)\n",
    "test_images = test_without_label.values\n",
    "test_images = np.array([np.reshape(i, (28, 28)) for i in test_images])\n",
    "test_images.shape"
   ]
  },
  {
   "cell_type": "code",
   "execution_count": 100,
   "metadata": {},
   "outputs": [
    {
     "data": {
      "text/plain": [
       "(7172, 28, 28, 1)"
      ]
     },
     "execution_count": 100,
     "metadata": {},
     "output_type": "execute_result"
    }
   ],
   "source": [
    "test_images = test_images.reshape(test_images.shape[0], 28, 28, 1)\n",
    "test_images.shape"
   ]
  },
  {
   "cell_type": "code",
   "execution_count": 103,
   "metadata": {
    "scrolled": true
   },
   "outputs": [
    {
     "name": "stdout",
     "output_type": "stream",
     "text": [
      "[[0. 0. 0. ... 0. 0. 0.]\n",
      " [0. 0. 0. ... 0. 0. 0.]\n",
      " [0. 0. 0. ... 0. 0. 0.]\n",
      " ...\n",
      " [0. 0. 1. ... 0. 0. 0.]\n",
      " [0. 0. 0. ... 0. 0. 0.]\n",
      " [0. 0. 1. ... 0. 0. 0.]]\n"
     ]
    },
    {
     "data": {
      "text/plain": [
       "0.9266592303402119"
      ]
     },
     "execution_count": 103,
     "metadata": {},
     "output_type": "execute_result"
    }
   ],
   "source": [
    "from sklearn.metrics import accuracy_score\n",
    "\n",
    "y_pred = model.predict(test_images)\n",
    "print (y_pred.round())\n",
    "accuracy_score(test_labels, y_pred.round())"
   ]
  },
  {
   "cell_type": "code",
   "execution_count": 104,
   "metadata": {},
   "outputs": [
    {
     "data": {
      "text/plain": [
       "array([2.9722970e-29, 4.0718297e-31, 1.5429358e-12, 2.4831213e-17,\n",
       "       7.1422587e-21, 1.1266786e-08, 9.9999821e-01, 2.4629689e-11,\n",
       "       2.5038342e-35, 8.1560723e-26, 6.8832863e-19, 2.9030808e-20,\n",
       "       1.0929608e-26, 1.7345860e-06, 7.0188828e-20, 1.4137195e-22,\n",
       "       3.3729877e-31, 4.6015860e-20, 1.0905779e-12, 1.6015953e-35,\n",
       "       1.4109511e-36, 6.2901724e-28, 2.4194281e-16, 3.5584677e-32],\n",
       "      dtype=float32)"
      ]
     },
     "execution_count": 104,
     "metadata": {},
     "output_type": "execute_result"
    }
   ],
   "source": [
    "y_pred[0]"
   ]
  },
  {
   "cell_type": "code",
   "execution_count": 105,
   "metadata": {},
   "outputs": [],
   "source": [
    "model.save('sign_language_weights.h5')"
   ]
  },
  {
   "cell_type": "code",
   "execution_count": 107,
   "metadata": {},
   "outputs": [
    {
     "data": {
      "text/plain": [
       "0.9266592303402119"
      ]
     },
     "execution_count": 107,
     "metadata": {},
     "output_type": "execute_result"
    }
   ],
   "source": [
    "from keras.models import load_model\n",
    "# Pass your .h5 file here\n",
    "saved_model = load_model('sign_language_weights.h5')\n",
    "\n",
    "y_pred = saved_model.predict(test_images)\n",
    "accuracy_score(test_labels, y_pred.round())"
   ]
  },
  {
   "cell_type": "code",
   "execution_count": 159,
   "metadata": {},
   "outputs": [
    {
     "data": {
      "text/plain": [
       "<matplotlib.image.AxesImage at 0x7f824c00a160>"
      ]
     },
     "execution_count": 159,
     "metadata": {},
     "output_type": "execute_result"
    },
    {
     "data": {
      "image/png": "[encoded data removed]",
      "text/plain": [
       "<Figure size 432x288 with 1 Axes>"
      ]
     },
     "metadata": {
      "needs_background": "light"
     },
     "output_type": "display_data"
    }
   ],
   "source": [
    "from PIL import Image\n",
    "\n",
    "img = Image.open('sign_test.png').convert('LA')\n",
    "img = img.resize((28, 28))\n",
    "img_arr = np.asarray(img)\n",
    "\n",
    "sign = img_arr[:, :, 0]\n",
    "plt.imshow(sign)"
   ]
  },
  {
   "cell_type": "code",
   "execution_count": 160,
   "metadata": {},
   "outputs": [
    {
     "data": {
      "text/plain": [
       "(1, 28, 28, 1)"
      ]
     },
     "execution_count": 160,
     "metadata": {},
     "output_type": "execute_result"
    }
   ],
   "source": [
    "sign = sign.reshape(28, 28, 1)\n",
    "sign = np.array([sign])\n",
    "sign.shape"
   ]
  },
  {
   "cell_type": "code",
   "execution_count": 161,
   "metadata": {},
   "outputs": [],
   "source": [
    "pred = saved_model.predict(sign)"
   ]
  },
  {
   "cell_type": "code",
   "execution_count": 162,
   "metadata": {},
   "outputs": [
    {
     "data": {
      "text/plain": [
       "array([5.84357567e-02, 0.00000000e+00, 5.07150205e-31, 1.16127777e-21,\n",
       "       6.26338090e-22, 1.59660430e-16, 8.13227770e-35, 1.85692581e-04,\n",
       "       1.49606075e-03, 1.04333416e-17, 1.00157727e-20, 9.87335532e-23,\n",
       "       9.63823550e-05, 5.35219013e-28, 1.09081358e-17, 1.10882269e-20,\n",
       "       1.52432792e-23, 1.72005489e-03, 7.32218774e-22, 0.00000000e+00,\n",
       "       6.56383367e-17, 2.61761014e-20, 6.59001766e-27, 9.38065946e-01],\n",
       "      dtype=float32)"
      ]
     },
     "execution_count": 162,
     "metadata": {},
     "output_type": "execute_result"
    }
   ],
   "source": [
    "pred[0]"
   ]
  },
  {
   "cell_type": "code",
   "execution_count": 163,
   "metadata": {},
   "outputs": [
    {
     "data": {
      "text/plain": [
       "23"
      ]
     },
     "execution_count": 163,
     "metadata": {},
     "output_type": "execute_result"
    }
   ],
   "source": [
    "np.argmax(pred[0])"
   ]
  },
  {
   "cell_type": "code",
   "execution_count": 164,
   "metadata": {},
   "outputs": [
    {
     "data": {
      "text/plain": [
       "24"
      ]
     },
     "execution_count": 164,
     "metadata": {},
     "output_type": "execute_result"
    }
   ],
   "source": [
    "len(pred[0])"
   ]
  },
  {
   "cell_type": "code",
   "execution_count": null,
   "metadata": {},
   "outputs": [],
   "source": []
  }
 ],
 "metadata": {
  "kernelspec": {
   "display_name": "Python 3",
   "language": "python",
   "name": "python3"
  },
  "language_info": {
   "codemirror_mode": {
    "name": "ipython",
    "version": 3
   },
   "file_extension": ".py",
   "mimetype": "text/x-python",
   "name": "python",
   "nbconvert_exporter": "python",
   "pygments_lexer": "ipython3",
   "version": "3.6.8"
  }
 },
 "nbformat": 4,
 "nbformat_minor": 2
}
